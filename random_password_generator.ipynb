{
  "nbformat": 4,
  "nbformat_minor": 0,
  "metadata": {
    "colab": {
      "provenance": [],
      "authorship_tag": "ABX9TyMy0lsvB5Nh1BZJmO49oORM",
      "include_colab_link": true
    },
    "kernelspec": {
      "name": "python3",
      "display_name": "Python 3"
    },
    "language_info": {
      "name": "python"
    }
  },
  "cells": [
    {
      "cell_type": "markdown",
      "metadata": {
        "id": "view-in-github",
        "colab_type": "text"
      },
      "source": [
        "<a href=\"https://colab.research.google.com/github/samitha-09/samitha/blob/main/random_password_generator.ipynb\" target=\"_parent\"><img src=\"https://colab.research.google.com/assets/colab-badge.svg\" alt=\"Open In Colab\"/></a>"
      ]
    },
    {
      "cell_type": "code",
      "execution_count": 2,
      "metadata": {
        "colab": {
          "base_uri": "https://localhost:8080/"
        },
        "id": "HUDjlGeC3VWF",
        "outputId": "0faf7e90-0d4e-4124-f23a-9d1c42bb4ada"
      },
      "outputs": [
        {
          "output_type": "stream",
          "name": "stdout",
          "text": [
            "WELCOME TO RANDOM PASSWORD GENERATOR\n",
            "Please enter the number of password to be generated:5\n",
            "Please enter the length of password needed:7\n",
            "Here are your ramdom passwords:\n",
            "uiZM^Jc\n",
            "$04DaGy\n",
            "X!KX9SH\n",
            "BckKcNa\n",
            "ZW#Vh$Z\n"
          ]
        }
      ],
      "source": [
        "import random\n",
        "print(\"WELCOME TO RANDOM PASSWORD GENERATOR\")\n",
        "randomechars=\"ABCDEFGHIJKLMNOPQRSTUVWXYZabcdefghijklmnopqrstuvwxyz1234567890!@#$%^&\"\n",
        "nbrofpwds=int(input(\"Please enter the number of password to be generated:\"))\n",
        "pwdlen=int(input(\"Please enter the length of password needed:\"))\n",
        "print(\"Here are your ramdom passwords:\")\n",
        "for x in range(nbrofpwds):\n",
        "  pwd=\"\"\n",
        "  for chars in range(pwdlen):\n",
        "    pwd=pwd+random.choice(randomechars)\n",
        "  print(pwd)"
      ]
    }
  ]
}